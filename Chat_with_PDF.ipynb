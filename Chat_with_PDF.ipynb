{
  "nbformat": 4,
  "nbformat_minor": 0,
  "metadata": {
    "colab": {
      "provenance": [],
      "include_colab_link": true
    },
    "kernelspec": {
      "name": "python3",
      "display_name": "Python 3"
    },
    "language_info": {
      "name": "python"
    }
  },
  "cells": [
    {
      "cell_type": "markdown",
      "metadata": {
        "id": "view-in-github",
        "colab_type": "text"
      },
      "source": [
        "<a href=\"https://colab.research.google.com/github/AhmedosamaDA/Portfolio/blob/main/Chat_with_PDF.ipynb\" target=\"_parent\"><img src=\"https://colab.research.google.com/assets/colab-badge.svg\" alt=\"Open In Colab\"/></a>"
      ]
    },
    {
      "cell_type": "markdown",
      "source": [
        "## Install libraries"
      ],
      "metadata": {
        "id": "B5pfi0nXx7XA"
      }
    },
    {
      "cell_type": "code",
      "execution_count": null,
      "metadata": {
        "id": "qbJietHVwwqE"
      },
      "outputs": [],
      "source": [
        "!pip install langchain sentence_transformers InstructorEmbedding faiss-cpu pdfminer.six tqdm"
      ]
    },
    {
      "cell_type": "code",
      "source": [
        "from pdfminer.high_level import extract_text\n",
        "from langchain.text_splitter import RecursiveCharacterTextSplitter\n",
        "from langchain.embeddings import HuggingFaceInstructEmbeddings\n",
        "from langchain.vectorstores import FAISS"
      ],
      "metadata": {
        "id": "OGr4eQ8dxqpQ"
      },
      "execution_count": null,
      "outputs": []
    },
    {
      "cell_type": "markdown",
      "source": [
        "# Chat & Query your PDF files"
      ],
      "metadata": {
        "id": "pXYSHqaSyOHa"
      }
    },
    {
      "cell_type": "markdown",
      "source": [
        "### Extract Text from PDF"
      ],
      "metadata": {
        "id": "g0JSvlgbyVEl"
      }
    },
    {
      "cell_type": "code",
      "source": [
        "document = extract_text(\"/content/Focus-on-Egypt.pdf\") ##insert your pdf path here"
      ],
      "metadata": {
        "id": "NA5phUwkygZy"
      },
      "execution_count": null,
      "outputs": []
    },
    {
      "cell_type": "code",
      "source": [
        "document[:100]\n",
        "len(document)"
      ],
      "metadata": {
        "colab": {
          "base_uri": "https://localhost:8080/"
        },
        "id": "kWs__XIeyuzO",
        "outputId": "7afc6132-12c0-447a-995c-2577fea3f164"
      },
      "execution_count": null,
      "outputs": [
        {
          "output_type": "execute_result",
          "data": {
            "text/plain": [
              "4882"
            ]
          },
          "metadata": {},
          "execution_count": 26
        }
      ]
    },
    {
      "cell_type": "markdown",
      "source": [
        "Divide Data into small parts(chunks)"
      ],
      "metadata": {
        "id": "CKtPwiTpytK2"
      }
    },
    {
      "cell_type": "code",
      "source": [
        "text_splitter = RecursiveCharacterTextSplitter(chunk_size =1000,chunk_overlap=50)\n",
        "chunks = text_splitter.split_text(document)"
      ],
      "metadata": {
        "id": "IFAigBrLyvz4"
      },
      "execution_count": null,
      "outputs": []
    },
    {
      "cell_type": "code",
      "source": [
        "chunks"
      ],
      "metadata": {
        "colab": {
          "base_uri": "https://localhost:8080/"
        },
        "id": "dqL_YN4JzKaq",
        "outputId": "cfb90063-c9ef-416c-c0ad-155b9ecf3f34"
      },
      "execution_count": null,
      "outputs": [
        {
          "output_type": "execute_result",
          "data": {
            "text/plain": [
              "['Egypt joined our Group in January \\n2022 after the acquisition of \\nthe\\xa0Coca-Cola Bottling Company \\nof\\xa0Egypt (CCBCE), and we are \\nvery\\xa0excited to welcome our \\nnew\\xa0colleagues. \\n\\nEgypt has a young population of over 100 million \\nand is one of the largest non-alcoholic ready-\\nto-drink, (NARTD) markets by volume in Africa. \\nWe are building on our existing scale in Africa \\nand\\xa0increasing our exposure to high-growth \\ngeographies. Egypt is one of the few countries \\nwhere Coca-Cola does not have leading market \\nshare, and we see great potential for us to unlock \\nconsiderable opportunities in this territory.',\n",
              " 'Increasing brand portfolio\\nOur current portfolio in Egypt spans our \\nsparkling range: Trademark Coke, Coke Zero, \\nSprite, Fanta, Schweppes, Canada Dry and \\nWater, including several variants of Dasani water. \\nWe see significant opportunity to\\xa0leverage our \\nproven route-to-market capabilities and over \\n70\\xa0years of experience in\\xa0emerging markets to \\nincrease penetration of\\xa0The Coca-Cola Company’s \\nbrand portfolio, driving category leadership.\\n\\n36\\n\\nFeature: Focus on Egypt\\n\\nIntroducing \\nour newest \\nmarket\\n\\nYoung and growing population\\n\\n100m+\\n\\nOpportunity to increase \\nper-capita consumption\\nOpportunity to become \\nmarket leader\\n\\nCoca-Cola HBC Integrated Annual Report 2022Strategic  ReportCorporate  GovernanceFinancial  StatementsSwiss Statutory  ReportingSupplementary Information\\x0cFeature: Focus on Egypt continued\\n\\n37',\n",
              " '37\\n\\n“Our integration journey has started and \\nI’m\\xa0particularly proud of how we’ve already \\nimproved our execution capabilities, \\nwith\\xa0better route-to-market and business \\nanalytics. At the same time, our expertise \\nin\\xa0operating in a high-growth market has been \\nwelcomed in Coca-Cola HBC. My colleagues \\nand I\\xa0are excited about 2023 and\\xa0the \\nopportunities we can develop as part of\\xa0 \\nCoca-Cola HBC.”\\n\\nAhmed Elafifi\\nGeneral Manager\\n\\nCollection and recycling\\nThrough our partnership with BariQ, the \\nlargest “bottle-to-bottle” recycler and \\nproducer of rPET pellets in the Middle East, \\nwe support the collection and recycling of \\nPET bottles in Egypt. In 2022, more than \\n31,000 tonnes of PET bottles were collected \\nfor recycling by BariQ, delivering a packaging \\ncollection rate of 43% for Coca-Cola HBC \\nEgypt. Through this ongoing partnership, \\nwe\\xa0continue to support collection and \\nhigh-quality recycling in the region.',\n",
              " 'Water stewardship\\nEgypt has a growing population and is almost \\nentirely dependent on the Nile River for \\nwater, which is a scarce resource. We are \\ncommitted to reducing our water usage ratio \\nand working with communities to help secure \\nwater availability in water risk areas.\\n\\nIn the two water priority locations in Egypt \\n(Assiout and Kaliub), with the funds of \\nThe\\xa0Coca-Cola Foundation and partnering \\nwith the UNDP and local NGOs, we \\nimplemented several water stewardship \\nprojects that replenished 3.6 billion litres \\nof\\xa0water. The\\xa0interventions include riverbank \\nfiltration unit construction; improvement \\nof\\xa0soils, yields and irrigation demand through \\ncomposting and use of a greenhouse \\ncultivation model in marginal and sub-\\nmarginal lands with\\xa0a hydroponic system. \\nOne\\xa0of the projects\\xa0also\\xa0provided water \\naccess in 17 villages\\xa0where more than 33,000 \\npeople were\\xa0beneficiaries.',\n",
              " 'Sustainability\\nThe team in Egypt has a forward-looking \\nattitude\\xa0to sustainability, for example, installing \\nin partnership with a supplier via a power \\npurchase agreement (PPA), 4.5 megawatt \\nsolar\\xa0photovoltaic rooftop plants at four \\nmanufacturing sites. We believe this is an \\nexample of how our values are aligned. \\n\\nThe business is committed to contributing to the \\nGroup’s Mission 2025 sustainability targets and \\nNetZeroby40 commitment and has started to \\nalign initiatives accordingly. We plan to include \\nEgypt in our sustainability reporting from 2023. \\n\\nIntegration is progressing according \\nto\\xa0plan\\nWe are implementing our execution capabilities, \\nfocusing on revenue growth management. \\nBack-office integration is on track, enabling cost \\nsynergies in central functions.\\n\\nWe are strengthening the cooler network and \\nhave invested in the market by installing new \\nenergy-efficient coolers this year in high-\\npotential outlets and locations, thus expanding \\nthe reach of our portfolio.',\n",
              " 'We also integrated HR processes, including \\nperformance evaluations, selection tools and \\ntalent development, while respecting local \\ncultural imperatives.\\n\\nMarket share improves in 2022\\nWe are encouraged to see early signs of \\nsuccess\\xa0from the investments we are making \\nto\\xa0strengthen long-term opportunities in Egypt. \\nIn 2022 Egypt arrested the market share loss \\nthey had seen for several years. We’re proud of \\nthese achievements and excited for what the \\nfuture can bring.\\n\\nCoca-Cola HBC Integrated Annual Report 2022Strategic  ReportCorporate  GovernanceFinancial  StatementsSwiss Statutory  ReportingSupplementary Information']"
            ]
          },
          "metadata": {},
          "execution_count": 28
        }
      ]
    },
    {
      "cell_type": "markdown",
      "source": [
        "### INSTALL Model\n",
        "The Embedding model is used to convert text into vector format so the computer can understand\n",
        "Note: You Can use OPEN-AI Ebeddings"
      ],
      "metadata": {
        "id": "IZm94p6OzAwr"
      }
    },
    {
      "cell_type": "code",
      "source": [
        "embeddings = HuggingFaceInstructEmbeddings()"
      ],
      "metadata": {
        "colab": {
          "base_uri": "https://localhost:8080/",
          "height": 175
        },
        "id": "6eMRXmvl2Iff",
        "outputId": "0ff46b4f-9e2d-4234-c7d4-400dd2067186"
      },
      "execution_count": null,
      "outputs": [
        {
          "output_type": "error",
          "ename": "NameError",
          "evalue": "ignored",
          "traceback": [
            "\u001b[0;31m---------------------------------------------------------------------------\u001b[0m",
            "\u001b[0;31mNameError\u001b[0m                                 Traceback (most recent call last)",
            "\u001b[0;32m<ipython-input-1-1363da034a6a>\u001b[0m in \u001b[0;36m<cell line: 1>\u001b[0;34m()\u001b[0m\n\u001b[0;32m----> 1\u001b[0;31m \u001b[0membeddings\u001b[0m \u001b[0;34m=\u001b[0m \u001b[0mHuggingFaceInstructEmbeddings\u001b[0m\u001b[0;34m(\u001b[0m\u001b[0;34m)\u001b[0m\u001b[0;34m\u001b[0m\u001b[0;34m\u001b[0m\u001b[0m\n\u001b[0m",
            "\u001b[0;31mNameError\u001b[0m: name 'HuggingFaceInstructEmbeddings' is not defined"
          ]
        }
      ]
    },
    {
      "cell_type": "markdown",
      "source": [
        "### Passing Chunks into embeddings model that will convert it into Vectors then store it into FAISS that will act as vector_database\n",
        "### Note: you can use other V-DB such as chroma"
      ],
      "metadata": {
        "id": "E9WlL3ie0aHo"
      }
    },
    {
      "cell_type": "code",
      "source": [
        "Vector_database = FAISS.from_texts(chunks, embeddings)"
      ],
      "metadata": {
        "id": "6j4ZxgBB23Bq"
      },
      "execution_count": null,
      "outputs": []
    },
    {
      "cell_type": "markdown",
      "source": [
        "##*Create* a retriver Object so we can ask and retrive data based on similarity"
      ],
      "metadata": {
        "id": "-nVdV1JP1Tnn"
      }
    },
    {
      "cell_type": "code",
      "source": [
        "retriver = Vector_database.as_retriever(search_kwargs={'k':3})"
      ],
      "metadata": {
        "id": "gNWKPdHE3q0P"
      },
      "execution_count": null,
      "outputs": []
    },
    {
      "cell_type": "code",
      "source": [
        "retriver.allowed_search_types"
      ],
      "metadata": {
        "colab": {
          "base_uri": "https://localhost:8080/"
        },
        "id": "F2ajw2HY8MPs",
        "outputId": "ea759053-9150-4a4b-fc82-913bd8f23fed"
      },
      "execution_count": null,
      "outputs": [
        {
          "output_type": "execute_result",
          "data": {
            "text/plain": [
              "('similarity', 'similarity_score_threshold', 'mmr')"
            ]
          },
          "metadata": {},
          "execution_count": 32
        }
      ]
    },
    {
      "cell_type": "markdown",
      "source": [
        "## An Example"
      ],
      "metadata": {
        "id": "jZievxNp1ytB"
      }
    },
    {
      "cell_type": "code",
      "source": [
        "answer = retriver.get_relevant_documents(\"future of egypt\")"
      ],
      "metadata": {
        "id": "YWDziX1P8Sln"
      },
      "execution_count": null,
      "outputs": []
    },
    {
      "cell_type": "code",
      "source": [
        "answer[1].page_content"
      ],
      "metadata": {
        "colab": {
          "base_uri": "https://localhost:8080/",
          "height": 105
        },
        "id": "w6Ne9GID8kiL",
        "outputId": "1418a7f8-329a-4f62-bb65-de55e355a98f"
      },
      "execution_count": null,
      "outputs": [
        {
          "output_type": "execute_result",
          "data": {
            "text/plain": [
              "'We also integrated HR processes, including \\nperformance evaluations, selection tools and \\ntalent development, while respecting local \\ncultural imperatives.\\n\\nMarket share improves in 2022\\nWe are encouraged to see early signs of \\nsuccess\\xa0from the investments we are making \\nto\\xa0strengthen long-term opportunities in Egypt. \\nIn 2022 Egypt arrested the market share loss \\nthey had seen for several years. We’re proud of \\nthese achievements and excited for what the \\nfuture can bring.\\n\\nCoca-Cola HBC Integrated Annual Report 2022Strategic  ReportCorporate  GovernanceFinancial  StatementsSwiss Statutory  ReportingSupplementary Information'"
            ],
            "application/vnd.google.colaboratory.intrinsic+json": {
              "type": "string"
            }
          },
          "metadata": {},
          "execution_count": 57
        }
      ]
    },
    {
      "cell_type": "code",
      "source": [],
      "metadata": {
        "id": "LlsddDa58le0"
      },
      "execution_count": null,
      "outputs": []
    }
  ]
}